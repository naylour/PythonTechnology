{
 "cells": [
  {
   "cell_type": "code",
   "execution_count": 1,
   "id": "189c2d64",
   "metadata": {},
   "outputs": [
    {
     "name": "stdout",
     "output_type": "stream",
     "text": [
      "{98, 35, 15, 213, 54, 119}\n"
     ]
    }
   ],
   "source": [
    "# Решение задачи №1\n",
    "\n",
    "ids = {\n",
    "    \"user1\": [213, 213, 213, 15, 213],\n",
    "    \"user2\": [54, 54, 119, 119, 119],\n",
    "    \"user3\": [213, 98, 98, 35],\n",
    "}\n",
    "\n",
    "unique_ids = set(sum(ids.values(), []))\n",
    "\n",
    "\n",
    "print(unique_ids)"
   ]
  },
  {
   "cell_type": "code",
   "execution_count": 2,
   "id": "02b85728",
   "metadata": {},
   "outputs": [
    {
     "name": "stdout",
     "output_type": "stream",
     "text": [
      "Поисковых запросов, содержащих 2 слов(а): 42.86%\n",
      "Поисковых запросов, содержащих 3 слов(а): 57.14%\n"
     ]
    }
   ],
   "source": [
    "# Решение задачи №2\n",
    "\n",
    "queries = [\n",
    "    'смотреть сериалы онлайн',\n",
    "    'новости спорта',\n",
    "    'афиша кино',\n",
    "    'курс доллара',\n",
    "    'сериалы этим летом',\n",
    "    'курс по питону',\n",
    "    'сериалы про спорт',\n",
    "]\n",
    "\n",
    "total_number_queries = len(queries)\n",
    "\n",
    "number_words_in_queries = list(map(lambda s: len(s.split()), queries))\n",
    "\n",
    "total_number_counts = {num: number_words_in_queries.count(num) for num in set(number_words_in_queries)}\n",
    "\n",
    "for (number, number_count) in total_number_counts.items():\n",
    "    percent = (number_count * 100) / total_number_queries\n",
    "\n",
    "    print(f'Поисковых запросов, содержащих {number} слов(а): {percent:.2f}%')"
   ]
  },
  {
   "cell_type": "code",
   "execution_count": null,
   "id": "a31a4373",
   "metadata": {},
   "outputs": [
    {
     "name": "stdout",
     "output_type": "stream",
     "text": [
      "{'vk': {'revenue': 103, 'cost': 98, 'ROI': 5.1}, 'yandex': {'revenue': 179, 'cost': 153, 'ROI': 16.99}, 'facebook': {'revenue': 103, 'cost': 110, 'ROI': -6.36}, 'adwords': {'revenue': 35, 'cost': 34, 'ROI': 2.94}, 'twitter': {'revenue': 11, 'cost': 24, 'ROI': -54.17}}\n"
     ]
    }
   ],
   "source": [
    "# Решение задачи №3\n",
    "\n",
    "results: dict[str, dict[str, float | int]] = { # Пришлось типизировать, редактор ругался\n",
    "    'vk': {'revenue': 103, 'cost': 98},\n",
    "    'yandex': {'revenue': 179, 'cost': 153},\n",
    "    'facebook': {'revenue': 103, 'cost': 110},\n",
    "    'adwords': {'revenue': 35, 'cost': 34},\n",
    "    'twitter': {'revenue': 11, 'cost': 24},\n",
    "}\n",
    "\n",
    "for social in results:\n",
    "    revenue, cost = results[social]['revenue'], results[social]['cost']\n",
    "\n",
    "    results[social]['ROI'] = round((revenue / cost - 1) * 100, 2)\n",
    "\n",
    "print(results)"
   ]
  },
  {
   "cell_type": "code",
   "execution_count": 4,
   "id": "c587d69b",
   "metadata": {},
   "outputs": [
    {
     "name": "stdout",
     "output_type": "stream",
     "text": [
      "vk\n"
     ]
    }
   ],
   "source": [
    "# Решение задачи №4\n",
    "\n",
    "stats = {\n",
    "    \"facebook\": 55,\n",
    "    \"yandex\": 115,\n",
    "    \"vk\": 120,\n",
    "    \"google\": 99,\n",
    "    \"email\": 42,\n",
    "    \"ok\": 98,\n",
    "}\n",
    "\n",
    "max_sales_value = max(stats, key=stats.get) # type: ignore\n",
    "\n",
    "print(max_sales_value)\n"
   ]
  },
  {
   "cell_type": "code",
   "execution_count": 6,
   "id": "77ab4ddb",
   "metadata": {},
   "outputs": [
    {
     "name": "stdout",
     "output_type": "stream",
     "text": [
      "{'2018-01-01': {'yandex': {'cpc': 100}}}\n"
     ]
    }
   ],
   "source": [
    "# Решение задачи №5\n",
    "\n",
    "my_list = ['2018-01-01', 'yandex', 'cpc', 100]\n",
    "# my_list = ['a', 'b', 'c', 'd', 'e', 'f']\n",
    "\n",
    "def to_nested_dict(lst: list) -> dict:\n",
    "    if len(lst) == 2:\n",
    "        return { lst[0]: lst[1] }\n",
    "\n",
    "    return { lst[0]: to_nested_dict(lst[1:]) }\n",
    "\n",
    "print(to_nested_dict(my_list))\n"
   ]
  },
  {
   "cell_type": "code",
   "execution_count": 7,
   "id": "4eaad9f8",
   "metadata": {},
   "outputs": [
    {
     "name": "stdout",
     "output_type": "stream",
     "text": [
      "Сыр: 210 гр.\n",
      "Томаты: 6 шт.\n",
      "Огурцы: 60 гр.\n",
      "Маслины: 30 гр.\n",
      "Оливковое масло: 60 мл.\n",
      "Салат: 30 гр.\n",
      "Перец: 60 гр.\n",
      "Колбаса: 90 гр.\n",
      "Бекон: 90 гр.\n",
      "Оливки: 30 гр.\n",
      "Томаты: 60 гр.\n",
      "Тесто: 300 гр.\n",
      "Лимон: 3 шт.\n",
      "Вода: 600 мл.\n",
      "Сахар: 30 гр.\n",
      "Лайм: 60 гр.\n"
     ]
    }
   ],
   "source": [
    "# Решение задачи №6\n",
    "\n",
    "from collections import defaultdict\n",
    "\n",
    "cook_book = {\n",
    "    \"салат\": [\n",
    "        {\"ingridient_name\": \"сыр\", \"quantity\": 50, \"measure\": \"гр\"},\n",
    "        {\"ingridient_name\": \"томаты\", \"quantity\": 2, \"measure\": \"шт\"},\n",
    "        {\"ingridient_name\": \"огурцы\", \"quantity\": 20, \"measure\": \"гр\"},\n",
    "        {\"ingridient_name\": \"маслины\", \"quantity\": 10, \"measure\": \"гр\"},\n",
    "        {\"ingridient_name\": \"оливковое масло\", \"quantity\": 20, \"measure\": \"мл\"},\n",
    "        {\"ingridient_name\": \"салат\", \"quantity\": 10, \"measure\": \"гр\"},\n",
    "        {\"ingridient_name\": \"перец\", \"quantity\": 20, \"measure\": \"гр\"},\n",
    "    ],\n",
    "    \"пицца\": [\n",
    "        {\"ingridient_name\": \"сыр\", \"quantity\": 20, \"measure\": \"гр\"},\n",
    "        {\"ingridient_name\": \"колбаса\", \"quantity\": 30, \"measure\": \"гр\"},\n",
    "        {\"ingridient_name\": \"бекон\", \"quantity\": 30, \"measure\": \"гр\"},\n",
    "        {\"ingridient_name\": \"оливки\", \"quantity\": 10, \"measure\": \"гр\"},\n",
    "        {\"ingridient_name\": \"томаты\", \"quantity\": 20, \"measure\": \"гр\"},\n",
    "        {\"ingridient_name\": \"тесто\", \"quantity\": 100, \"measure\": \"гр\"},\n",
    "    ],\n",
    "    \"лимонад\": [\n",
    "        {\"ingridient_name\": \"лимон\", \"quantity\": 1, \"measure\": \"шт\"},\n",
    "        {\"ingridient_name\": \"вода\", \"quantity\": 200, \"measure\": \"мл\"},\n",
    "        {\"ingridient_name\": \"сахар\", \"quantity\": 10, \"measure\": \"гр\"},\n",
    "        {\"ingridient_name\": \"лайм\", \"quantity\": 20, \"measure\": \"гр\"},\n",
    "    ],\n",
    "}\n",
    "\n",
    "\n",
    "def take_user_number(message: str) -> int:\n",
    "    try:\n",
    "        return int(input(message))\n",
    "    except:  # noqa: E722\n",
    "        raise Exception(\"Введите число\")\n",
    "\n",
    "\n",
    "number_of_servings = take_user_number(\"Введите количество порций: \")\n",
    "\n",
    "\n",
    "all_ingredients = sum(cook_book.values(), [])\n",
    "\n",
    "grouped = defaultdict(int)\n",
    "\n",
    "for ingredient in all_ingredients:\n",
    "    key = (ingredient[\"ingridient_name\"], ingredient[\"measure\"])\n",
    "\n",
    "    grouped[key] += ingredient[\"quantity\"]\n",
    "\n",
    "\n",
    "result = [\n",
    "    {\"ingridient_name\": name, \"measure\": measure, \"quantity\": quantity}\n",
    "\n",
    "    for (name, measure), quantity in grouped.items()\n",
    "]\n",
    "\n",
    "for ingredient in result:\n",
    "    name = ingredient['ingridient_name']\n",
    "    quantity = ingredient['quantity'] * number_of_servings\n",
    "    measure = ingredient['measure']\n",
    "\n",
    "    print(f'{name}: {quantity} {measure}.'.capitalize())\n"
   ]
  }
 ],
 "metadata": {
  "kernelspec": {
   "display_name": ".venv",
   "language": "python",
   "name": "python3"
  },
  "language_info": {
   "codemirror_mode": {
    "name": "ipython",
    "version": 3
   },
   "file_extension": ".py",
   "mimetype": "text/x-python",
   "name": "python",
   "nbconvert_exporter": "python",
   "pygments_lexer": "ipython3",
   "version": "3.13.5"
  }
 },
 "nbformat": 4,
 "nbformat_minor": 5
}
